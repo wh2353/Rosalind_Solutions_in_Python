{
 "cells": [
  {
   "cell_type": "code",
   "execution_count": null,
   "metadata": {
    "collapsed": true
   },
   "outputs": [],
   "source": [
    "n = 95\n",
    "m = 20\n",
    "\n",
    "#initialize the storage\n",
    "rabbit_recorder = [0]*m\n",
    "\n",
    "rabbit_recorder[0] = 1\n",
    "#first generation from 0 month: has a rabbit\n",
    "#rabbit will give birth after 1 month, and died after m months\n",
    "#the sum of all the values in the vector rabbit_recorder is the total number of rabbits at month n\n",
    "\n",
    "\n",
    "for i in range(1, n):\n",
    "    #print rabbit_recorder\n",
    "    #<1 month rabbits were not sexually matured\n",
    "    new_borns = sum(rabbit_recorder[1:m])\n",
    "    #rabbits that are older than m month will be extinguished\n",
    "    rabbit_recorder = [new_borns] + rabbit_recorder[0:m-1]\n",
    "    \n",
    "print sum(rabbit_recorder)"
   ]
  }
 ],
 "metadata": {
  "kernelspec": {
   "display_name": "Python 2",
   "language": "python",
   "name": "python2"
  },
  "language_info": {
   "codemirror_mode": {
    "name": "ipython",
    "version": 2
   },
   "file_extension": ".py",
   "mimetype": "text/x-python",
   "name": "python",
   "nbconvert_exporter": "python",
   "pygments_lexer": "ipython2",
   "version": "2.7.13"
  }
 },
 "nbformat": 4,
 "nbformat_minor": 2
}
